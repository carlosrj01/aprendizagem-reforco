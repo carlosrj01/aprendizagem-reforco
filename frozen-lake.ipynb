{
 "cells": [
  {
   "cell_type": "code",
   "execution_count": 1,
   "id": "ef4b7f71",
   "metadata": {},
   "outputs": [],
   "source": [
    "import gym\n",
    "import numpy as np\n"
   ]
  },
  {
   "cell_type": "code",
   "execution_count": 2,
   "id": "522a3e0a",
   "metadata": {},
   "outputs": [],
   "source": [
    "env = gym.make(\"FrozenLake-v1\",is_slippery=True)"
   ]
  },
  {
   "cell_type": "code",
   "execution_count": 3,
   "id": "1f0a6cec",
   "metadata": {},
   "outputs": [
    {
     "name": "stdout",
     "output_type": "stream",
     "text": [
      "\n",
      "\u001b[41mS\u001b[0mFFF\n",
      "FHFH\n",
      "FFFH\n",
      "HFFG\n"
     ]
    }
   ],
   "source": [
    "env.reset()\n",
    "env.render()"
   ]
  },
  {
   "cell_type": "code",
   "execution_count": 4,
   "id": "7ff4c28b",
   "metadata": {},
   "outputs": [
    {
     "name": "stdout",
     "output_type": "stream",
     "text": [
      "Discrete(4)\n"
     ]
    }
   ],
   "source": [
    "# Abaixo as ações que o personagem pode realizar\n",
    "#0: LEFT\n",
    "#1: DOWN\n",
    "#2: RIGHT\n",
    "#3: UP\n",
    "print(env.action_space)"
   ]
  },
  {
   "cell_type": "code",
   "execution_count": 5,
   "id": "e6c66386",
   "metadata": {},
   "outputs": [
    {
     "name": "stdout",
     "output_type": "stream",
     "text": [
      "Discrete(16)\n"
     ]
    }
   ],
   "source": [
    "# Abaixo todas as possibilidades do cenário\n",
    "print(env.observation_space)"
   ]
  },
  {
   "cell_type": "code",
   "execution_count": 6,
   "id": "bdba8e58",
   "metadata": {},
   "outputs": [
    {
     "data": {
      "text/plain": [
       "{0: [(0.3333333333333333, 6, 0.0, False),\n",
       "  (0.3333333333333333, 9, 0.0, False),\n",
       "  (0.3333333333333333, 14, 0.0, False)],\n",
       " 1: [(0.3333333333333333, 9, 0.0, False),\n",
       "  (0.3333333333333333, 14, 0.0, False),\n",
       "  (0.3333333333333333, 11, 0.0, True)],\n",
       " 2: [(0.3333333333333333, 14, 0.0, False),\n",
       "  (0.3333333333333333, 11, 0.0, True),\n",
       "  (0.3333333333333333, 6, 0.0, False)],\n",
       " 3: [(0.3333333333333333, 11, 0.0, True),\n",
       "  (0.3333333333333333, 6, 0.0, False),\n",
       "  (0.3333333333333333, 9, 0.0, False)]}"
      ]
     },
     "execution_count": 6,
     "metadata": {},
     "output_type": "execute_result"
    }
   ],
   "source": [
    "env.P[10]"
   ]
  },
  {
   "cell_type": "code",
   "execution_count": 7,
   "id": "0ebd6fb2",
   "metadata": {},
   "outputs": [
    {
     "data": {
      "text/plain": [
       "(16, 4)"
      ]
     },
     "execution_count": 7,
     "metadata": {},
     "output_type": "execute_result"
    }
   ],
   "source": [
    "import numpy as np\n",
    "q_table = np.zeros([env.observation_space.n, env.action_space.n])\n",
    "q_table.shape"
   ]
  },
  {
   "cell_type": "code",
   "execution_count": 8,
   "id": "f4291628",
   "metadata": {},
   "outputs": [
    {
     "name": "stdout",
     "output_type": "stream",
     "text": [
      "Episódio:  99900\n",
      "Treinamento concluído\n",
      "CPU times: total: 32.2 s\n",
      "Wall time: 29.3 s\n"
     ]
    }
   ],
   "source": [
    "%%time\n",
    "from IPython.display import clear_output\n",
    "import random\n",
    "\n",
    "alpha = 0.1\n",
    "gamma = 0.6\n",
    "epsilon = 0.1\n",
    "\n",
    "for i in range(100000):\n",
    "  estado = env.reset()\n",
    "\n",
    "  penalidades, recompensa = 0, 0\n",
    "  done = False\n",
    "  while not done:\n",
    "    # Exploração\n",
    "    if random.uniform(0, 1) < epsilon:\n",
    "      acao = env.action_space.sample()\n",
    "    # Exploitation\n",
    "    else:\n",
    "      acao = np.argmax(q_table[estado])\n",
    "\n",
    "    proximo_estado, recompensa, done, info = env.step(acao)\n",
    "\n",
    "    q_antigo = q_table[estado, acao]\n",
    "    proximo_maximo = np.max(q_table[proximo_estado])\n",
    "\n",
    "    q_novo = (1 - alpha) * q_antigo + alpha * (recompensa + gamma * proximo_maximo)\n",
    "    q_table[estado, acao] = q_novo\n",
    "\n",
    "    if recompensa == -10:\n",
    "      penalidades += 1\n",
    "\n",
    "    estado = proximo_estado\n",
    "\n",
    "  if i % 100 == 0:\n",
    "    clear_output(wait=True)\n",
    "    print('Episódio: ', i)\n",
    "\n",
    "print('Treinamento concluído')"
   ]
  },
  {
   "cell_type": "code",
   "execution_count": 9,
   "id": "461203e3",
   "metadata": {},
   "outputs": [
    {
     "name": "stdout",
     "output_type": "stream",
     "text": [
      "Episódios 50\n",
      "Penalidades 0\n"
     ]
    }
   ],
   "source": [
    "total_penalidades = 0\n",
    "episodios = 50\n",
    "frames = []\n",
    "\n",
    "for _ in range(episodios):\n",
    "  estado = env.reset()\n",
    "  penalidades, recompensa = 0, 0\n",
    "  done = False\n",
    "  while not done:\n",
    "    acao = np.argmax(q_table[estado])\n",
    "    estado, recompensa, done, info = env.step(acao)\n",
    "\n",
    "    if recompensa == -10:\n",
    "      penalidades += 1\n",
    "    \n",
    "    frames.append({\n",
    "        'frame': env.render(mode='ansi'),\n",
    "        'state': estado,\n",
    "        'action': acao,\n",
    "        'reward': recompensa\n",
    "    })\n",
    "\n",
    "  total_penalidades += penalidades\n",
    "\n",
    "print('Episódios', episodios)\n",
    "print('Penalidades', total_penalidades)"
   ]
  },
  {
   "cell_type": "code",
   "execution_count": null,
   "id": "9aaaf1dc",
   "metadata": {},
   "outputs": [
    {
     "name": "stdout",
     "output_type": "stream",
     "text": [
      "  (Left)\n",
      "\u001b[41mS\u001b[0mFFF\n",
      "FHFH\n",
      "FFFH\n",
      "HFFG\n",
      "\n",
      "Estado 0\n",
      "Ação 0\n",
      "Recompensa 0.0\n"
     ]
    }
   ],
   "source": [
    "from time import sleep\n",
    "for frame in frames:\n",
    "    clear_output(wait=True)\n",
    "    print(frame['frame'])\n",
    "    print('Estado', frame['state'])\n",
    "    print('Ação', frame['action'])\n",
    "    print('Recompensa', frame['reward'])\n",
    "    sleep(.5)\n",
    "    if frame['reward'] == 1:\n",
    "        break\n",
    "        "
   ]
  },
  {
   "cell_type": "code",
   "execution_count": null,
   "id": "e7721991",
   "metadata": {},
   "outputs": [],
   "source": []
  }
 ],
 "metadata": {
  "kernelspec": {
   "display_name": "Python 3 (ipykernel)",
   "language": "python",
   "name": "python3"
  },
  "language_info": {
   "codemirror_mode": {
    "name": "ipython",
    "version": 3
   },
   "file_extension": ".py",
   "mimetype": "text/x-python",
   "name": "python",
   "nbconvert_exporter": "python",
   "pygments_lexer": "ipython3",
   "version": "3.10.9"
  }
 },
 "nbformat": 4,
 "nbformat_minor": 5
}
